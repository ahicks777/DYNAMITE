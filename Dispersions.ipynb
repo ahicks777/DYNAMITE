{
 "cells": [
  {
   "attachments": {},
   "cell_type": "markdown",
   "metadata": {},
   "source": [
    "### Import Libraries"
   ]
  },
  {
   "cell_type": "code",
   "execution_count": 1,
   "metadata": {},
   "outputs": [
    {
     "name": "stderr",
     "output_type": "stream",
     "text": [
      "WARNING: AstropyDeprecationWarning: http://bugs.python.org/issue12166 is resolved, use ``sorted(super().__dir__() + ...)`` instead. [gala.dynamics.core]\n"
     ]
    },
    {
     "name": "stdout",
     "output_type": "stream",
     "text": [
      "Pytorch version 2.0.1\n"
     ]
    }
   ],
   "source": [
    "#Import Cell\n",
    "import torch\n",
    "from torch.autograd import Variable\n",
    "import numpy as np\n",
    "import sys\n",
    "import scipy\n",
    "import scipy.stats\n",
    "import matplotlib\n",
    "import matplotlib.pyplot as plt\n",
    "import matplotlib.colors as mcolors\n",
    "from matplotlib.ticker import AutoMinorLocator, MultipleLocator\n",
    "from matplotlib.gridspec import GridSpec\n",
    "from time import time\n",
    "import re\n",
    "import json\n",
    "import astropy\n",
    "from astropy.stats import histogram\n",
    "from scipy import stats\n",
    "import astropy.units as u\n",
    "import astropy.constants as constant\n",
    "import gala.potential as gp\n",
    "import gala.dynamics as gd\n",
    "from gala.units import galactic\n",
    "from gala.units import dimensionless\n",
    "import pandas as pd\n",
    "import tqdm as tqdm\n",
    "from tqdm import tqdm\n",
    "import importlib\n",
    "print(f'Pytorch version {torch.__version__}')\n"
   ]
  },
  {
   "cell_type": "code",
   "execution_count": 16,
   "metadata": {},
   "outputs": [
    {
     "name": "stdout",
     "output_type": "stream",
     "text": [
      "Pytorch version 2.0.1\n",
      "Pytorch version 2.0.1\n"
     ]
    }
   ],
   "source": [
    "sys.path.append('../scripts/')\n",
    "import potential_torch\n",
    "import flow_torch\n",
    "import toy_systems"
   ]
  },
  {
   "attachments": {},
   "cell_type": "markdown",
   "metadata": {},
   "source": [
    "### Set parameters"
   ]
  },
  {
   "cell_type": "code",
   "execution_count": 69,
   "metadata": {},
   "outputs": [],
   "source": [
    "G = 1 #Gravitational Constant\n",
    "M = 1 #Scale Mass\n",
    "b = np.arange(0.1,10,.1) #Scale Constant\n",
    "n_samples = 1000 #Number of Samples\n",
    "n_averaged = 100 #Number of Mocks averaged over\n"
   ]
  },
  {
   "attachments": {},
   "cell_type": "markdown",
   "metadata": {},
   "source": [
    "### Define Necessary Functions"
   ]
  },
  {
   "cell_type": "code",
   "execution_count": 66,
   "metadata": {},
   "outputs": [],
   "source": [
    "def sfurical(x,y,z,v_x,v_y,v_z):\n",
    "    \n",
    "    R = np.sqrt(x**2+y**2) #for convenience\n",
    "    r = np.sqrt(x**2+y**2+z**2)\n",
    "\n",
    "    theta = np.arccos(z/r)\n",
    "    phi   = np.arctan2(y,x)\n",
    "\n",
    "    # (vx,vy,vz) -> (vr,v_{\\theta},v_{\\phi})\n",
    "    vr     =  ( x * v_x  + y * v_y + z * v_z )/ r    \n",
    "    vphi   = (y * v_x - x * v_y)/ R\n",
    "    vtheta = (z * x * v_x/R  + z * y * v_y/R - R * v_z)/r\n",
    "    return r, vr, vtheta, vphi\n",
    "\n",
    "def dispersion(v):\n",
    "    return np.sqrt(sum(np.square(np.subtract(v,sum(v)/len(v))))/len(v))\n",
    "\n",
    "def vd(r,vr,vtheta,vphi,t):\n",
    "    N , bin_edges= histogram(r[t],bins='blocks')\n",
    "    r_center = (bin_edges[:-1] + bin_edges[1:])/2\n",
    "    vmean ,_,__  = stats.binned_statistic(r[t],vr[t], statistic = 'mean', bins = bin_edges)\n",
    "    error = np.multiply(1/np.sqrt(N),vmean)\n",
    "    vdr     ,_,__ = stats.binned_statistic(r[t],vr[t], statistic = dispersion, bins = bin_edges)\n",
    "    vdtheta     ,_,__ = stats.binned_statistic(r[t],vtheta[t], statistic = dispersion, bins = bin_edges)\n",
    "    vdphi     ,_,__ = stats.binned_statistic(r[t],vphi[t], statistic = dispersion, bins = bin_edges)\n",
    "    return r_center, vdr, vdtheta, vdphi\n",
    "\n",
    "def variance(vd,vd_ideal):\n",
    "    sqdiff = ((vd - vd_ideal)/vd_ideal)**2\n",
    "    variance = np.square(sum(sqdiff))/len(sqdiff)\n",
    "    return variance\n",
    "\n",
    "vdlytic = lambda G, M, b, r : np.sqrt(G*M/(6*np.sqrt(b**2+r**2)))"
   ]
  },
  {
   "attachments": {},
   "cell_type": "markdown",
   "metadata": {},
   "source": [
    "### Generate Data"
   ]
  },
  {
   "cell_type": "code",
   "execution_count": 71,
   "metadata": {},
   "outputs": [
    {
     "name": "stderr",
     "output_type": "stream",
     "text": [
      "  0%|          | 0/99 [00:00<?, ?it/s]"
     ]
    },
    {
     "name": "stdout",
     "output_type": "stream",
     "text": [
      "generating velocity dispersions for scale radius 0.1\n"
     ]
    },
    {
     "name": "stderr",
     "output_type": "stream",
     "text": [
      "100%|██████████| 100/100 [00:19<00:00,  5.12it/s]\n",
      "  1%|          | 1/99 [00:19<31:55, 19.55s/it]"
     ]
    },
    {
     "name": "stdout",
     "output_type": "stream",
     "text": [
      "generating velocity dispersions for scale radius 0.2\n"
     ]
    },
    {
     "name": "stderr",
     "output_type": "stream",
     "text": [
      "100%|██████████| 100/100 [00:18<00:00,  5.31it/s]\n",
      "  2%|▏         | 2/99 [00:38<30:56, 19.14s/it]"
     ]
    },
    {
     "name": "stdout",
     "output_type": "stream",
     "text": [
      "generating velocity dispersions for scale radius 0.30000000000000004\n"
     ]
    },
    {
     "name": "stderr",
     "output_type": "stream",
     "text": [
      "100%|██████████| 100/100 [00:18<00:00,  5.35it/s]\n",
      "  3%|▎         | 3/99 [00:57<30:17, 18.94s/it]"
     ]
    },
    {
     "name": "stdout",
     "output_type": "stream",
     "text": [
      "generating velocity dispersions for scale radius 0.4\n"
     ]
    },
    {
     "name": "stderr",
     "output_type": "stream",
     "text": [
      "100%|██████████| 100/100 [00:18<00:00,  5.40it/s]\n",
      "  4%|▍         | 4/99 [01:15<29:43, 18.78s/it]"
     ]
    },
    {
     "name": "stdout",
     "output_type": "stream",
     "text": [
      "generating velocity dispersions for scale radius 0.5\n"
     ]
    },
    {
     "name": "stderr",
     "output_type": "stream",
     "text": [
      "100%|██████████| 100/100 [00:12<00:00,  7.72it/s]\n",
      "  5%|▌         | 5/99 [01:28<26:07, 16.67s/it]"
     ]
    },
    {
     "name": "stdout",
     "output_type": "stream",
     "text": [
      "generating velocity dispersions for scale radius 0.6\n"
     ]
    },
    {
     "name": "stderr",
     "output_type": "stream",
     "text": [
      "100%|██████████| 100/100 [00:12<00:00,  7.73it/s]\n",
      "  6%|▌         | 6/99 [01:41<23:52, 15.41s/it]"
     ]
    },
    {
     "name": "stdout",
     "output_type": "stream",
     "text": [
      "generating velocity dispersions for scale radius 0.7000000000000001\n"
     ]
    },
    {
     "name": "stderr",
     "output_type": "stream",
     "text": [
      "100%|██████████| 100/100 [00:12<00:00,  7.75it/s]\n",
      "  7%|▋         | 7/99 [01:54<22:22, 14.59s/it]"
     ]
    },
    {
     "name": "stdout",
     "output_type": "stream",
     "text": [
      "generating velocity dispersions for scale radius 0.8\n"
     ]
    },
    {
     "name": "stderr",
     "output_type": "stream",
     "text": [
      "100%|██████████| 100/100 [00:12<00:00,  7.76it/s]\n",
      "  8%|▊         | 8/99 [02:07<21:18, 14.05s/it]"
     ]
    },
    {
     "name": "stdout",
     "output_type": "stream",
     "text": [
      "generating velocity dispersions for scale radius 0.9\n"
     ]
    },
    {
     "name": "stderr",
     "output_type": "stream",
     "text": [
      "100%|██████████| 100/100 [00:12<00:00,  7.79it/s]\n",
      "  9%|▉         | 9/99 [02:20<20:30, 13.67s/it]"
     ]
    },
    {
     "name": "stdout",
     "output_type": "stream",
     "text": [
      "generating velocity dispersions for scale radius 1.0\n"
     ]
    },
    {
     "name": "stderr",
     "output_type": "stream",
     "text": [
      "100%|██████████| 100/100 [00:13<00:00,  7.57it/s]\n",
      " 10%|█         | 10/99 [02:33<20:04, 13.53s/it]"
     ]
    },
    {
     "name": "stdout",
     "output_type": "stream",
     "text": [
      "generating velocity dispersions for scale radius 1.1\n"
     ]
    },
    {
     "name": "stderr",
     "output_type": "stream",
     "text": [
      "100%|██████████| 100/100 [00:12<00:00,  7.76it/s]\n",
      " 11%|█         | 11/99 [02:46<19:33, 13.34s/it]"
     ]
    },
    {
     "name": "stdout",
     "output_type": "stream",
     "text": [
      "generating velocity dispersions for scale radius 1.2000000000000002\n"
     ]
    },
    {
     "name": "stderr",
     "output_type": "stream",
     "text": [
      "100%|██████████| 100/100 [00:12<00:00,  7.77it/s]\n",
      " 12%|█▏        | 12/99 [02:59<19:08, 13.20s/it]"
     ]
    },
    {
     "name": "stdout",
     "output_type": "stream",
     "text": [
      "generating velocity dispersions for scale radius 1.3000000000000003\n"
     ]
    },
    {
     "name": "stderr",
     "output_type": "stream",
     "text": [
      "100%|██████████| 100/100 [00:12<00:00,  7.76it/s]\n",
      " 13%|█▎        | 13/99 [03:12<18:47, 13.11s/it]"
     ]
    },
    {
     "name": "stdout",
     "output_type": "stream",
     "text": [
      "generating velocity dispersions for scale radius 1.4000000000000001\n"
     ]
    },
    {
     "name": "stderr",
     "output_type": "stream",
     "text": [
      "100%|██████████| 100/100 [00:12<00:00,  7.79it/s]\n",
      " 14%|█▍        | 14/99 [03:24<18:27, 13.03s/it]"
     ]
    },
    {
     "name": "stdout",
     "output_type": "stream",
     "text": [
      "generating velocity dispersions for scale radius 1.5000000000000002\n"
     ]
    },
    {
     "name": "stderr",
     "output_type": "stream",
     "text": [
      "100%|██████████| 100/100 [00:12<00:00,  7.76it/s]\n",
      " 15%|█▌        | 15/99 [03:37<18:10, 12.98s/it]"
     ]
    },
    {
     "name": "stdout",
     "output_type": "stream",
     "text": [
      "generating velocity dispersions for scale radius 1.6\n"
     ]
    },
    {
     "name": "stderr",
     "output_type": "stream",
     "text": [
      "100%|██████████| 100/100 [00:12<00:00,  7.79it/s]\n",
      " 16%|█▌        | 16/99 [03:50<17:54, 12.94s/it]"
     ]
    },
    {
     "name": "stdout",
     "output_type": "stream",
     "text": [
      "generating velocity dispersions for scale radius 1.7000000000000002\n"
     ]
    },
    {
     "name": "stderr",
     "output_type": "stream",
     "text": [
      "100%|██████████| 100/100 [00:12<00:00,  7.76it/s]\n",
      " 17%|█▋        | 17/99 [04:03<17:39, 12.93s/it]"
     ]
    },
    {
     "name": "stdout",
     "output_type": "stream",
     "text": [
      "generating velocity dispersions for scale radius 1.8000000000000003\n"
     ]
    },
    {
     "name": "stderr",
     "output_type": "stream",
     "text": [
      "100%|██████████| 100/100 [00:12<00:00,  7.79it/s]\n",
      " 18%|█▊        | 18/99 [04:16<17:24, 12.90s/it]"
     ]
    },
    {
     "name": "stdout",
     "output_type": "stream",
     "text": [
      "generating velocity dispersions for scale radius 1.9000000000000001\n"
     ]
    },
    {
     "name": "stderr",
     "output_type": "stream",
     "text": [
      "100%|██████████| 100/100 [00:12<00:00,  7.78it/s]\n",
      " 19%|█▉        | 19/99 [04:29<17:10, 12.89s/it]"
     ]
    },
    {
     "name": "stdout",
     "output_type": "stream",
     "text": [
      "generating velocity dispersions for scale radius 2.0\n"
     ]
    },
    {
     "name": "stderr",
     "output_type": "stream",
     "text": [
      "100%|██████████| 100/100 [00:12<00:00,  7.81it/s]\n",
      " 20%|██        | 20/99 [04:42<16:56, 12.86s/it]"
     ]
    },
    {
     "name": "stdout",
     "output_type": "stream",
     "text": [
      "generating velocity dispersions for scale radius 2.1\n"
     ]
    },
    {
     "name": "stderr",
     "output_type": "stream",
     "text": [
      "100%|██████████| 100/100 [00:12<00:00,  7.77it/s]\n",
      " 21%|██        | 21/99 [04:54<16:43, 12.87s/it]"
     ]
    },
    {
     "name": "stdout",
     "output_type": "stream",
     "text": [
      "generating velocity dispersions for scale radius 2.2\n"
     ]
    },
    {
     "name": "stderr",
     "output_type": "stream",
     "text": [
      "100%|██████████| 100/100 [00:12<00:00,  7.77it/s]\n",
      " 22%|██▏       | 22/99 [05:07<16:30, 12.87s/it]"
     ]
    },
    {
     "name": "stdout",
     "output_type": "stream",
     "text": [
      "generating velocity dispersions for scale radius 2.3000000000000003\n"
     ]
    },
    {
     "name": "stderr",
     "output_type": "stream",
     "text": [
      "100%|██████████| 100/100 [00:12<00:00,  7.81it/s]\n",
      " 23%|██▎       | 23/99 [05:20<16:16, 12.85s/it]"
     ]
    },
    {
     "name": "stdout",
     "output_type": "stream",
     "text": [
      "generating velocity dispersions for scale radius 2.4000000000000004\n"
     ]
    },
    {
     "name": "stderr",
     "output_type": "stream",
     "text": [
      "100%|██████████| 100/100 [00:12<00:00,  7.77it/s]\n",
      " 24%|██▍       | 24/99 [05:33<16:04, 12.86s/it]"
     ]
    },
    {
     "name": "stdout",
     "output_type": "stream",
     "text": [
      "generating velocity dispersions for scale radius 2.5000000000000004\n"
     ]
    },
    {
     "name": "stderr",
     "output_type": "stream",
     "text": [
      "100%|██████████| 100/100 [00:12<00:00,  7.81it/s]\n",
      " 25%|██▌       | 25/99 [05:46<15:50, 12.85s/it]"
     ]
    },
    {
     "name": "stdout",
     "output_type": "stream",
     "text": [
      "generating velocity dispersions for scale radius 2.6\n"
     ]
    },
    {
     "name": "stderr",
     "output_type": "stream",
     "text": [
      "100%|██████████| 100/100 [00:12<00:00,  7.84it/s]\n",
      " 26%|██▋       | 26/99 [05:59<15:35, 12.82s/it]"
     ]
    },
    {
     "name": "stdout",
     "output_type": "stream",
     "text": [
      "generating velocity dispersions for scale radius 2.7\n"
     ]
    },
    {
     "name": "stderr",
     "output_type": "stream",
     "text": [
      "100%|██████████| 100/100 [00:12<00:00,  7.82it/s]\n",
      " 27%|██▋       | 27/99 [06:11<15:22, 12.81s/it]"
     ]
    },
    {
     "name": "stdout",
     "output_type": "stream",
     "text": [
      "generating velocity dispersions for scale radius 2.8000000000000003\n"
     ]
    },
    {
     "name": "stderr",
     "output_type": "stream",
     "text": [
      "100%|██████████| 100/100 [00:12<00:00,  7.80it/s]\n",
      " 28%|██▊       | 28/99 [06:24<15:09, 12.81s/it]"
     ]
    },
    {
     "name": "stdout",
     "output_type": "stream",
     "text": [
      "generating velocity dispersions for scale radius 2.9000000000000004\n"
     ]
    },
    {
     "name": "stderr",
     "output_type": "stream",
     "text": [
      "100%|██████████| 100/100 [00:12<00:00,  7.83it/s]\n",
      " 29%|██▉       | 29/99 [06:37<14:56, 12.80s/it]"
     ]
    },
    {
     "name": "stdout",
     "output_type": "stream",
     "text": [
      "generating velocity dispersions for scale radius 3.0000000000000004\n"
     ]
    },
    {
     "name": "stderr",
     "output_type": "stream",
     "text": [
      "100%|██████████| 100/100 [00:12<00:00,  7.80it/s]\n",
      " 30%|███       | 30/99 [06:50<14:43, 12.81s/it]"
     ]
    },
    {
     "name": "stdout",
     "output_type": "stream",
     "text": [
      "generating velocity dispersions for scale radius 3.1\n"
     ]
    },
    {
     "name": "stderr",
     "output_type": "stream",
     "text": [
      "100%|██████████| 100/100 [00:12<00:00,  7.81it/s]\n",
      " 31%|███▏      | 31/99 [07:03<14:31, 12.81s/it]"
     ]
    },
    {
     "name": "stdout",
     "output_type": "stream",
     "text": [
      "generating velocity dispersions for scale radius 3.2\n"
     ]
    },
    {
     "name": "stderr",
     "output_type": "stream",
     "text": [
      "100%|██████████| 100/100 [00:12<00:00,  7.82it/s]\n",
      " 32%|███▏      | 32/99 [07:15<14:18, 12.81s/it]"
     ]
    },
    {
     "name": "stdout",
     "output_type": "stream",
     "text": [
      "generating velocity dispersions for scale radius 3.3000000000000003\n"
     ]
    },
    {
     "name": "stderr",
     "output_type": "stream",
     "text": [
      "100%|██████████| 100/100 [00:12<00:00,  7.78it/s]\n",
      " 33%|███▎      | 33/99 [07:28<14:06, 12.82s/it]"
     ]
    },
    {
     "name": "stdout",
     "output_type": "stream",
     "text": [
      "generating velocity dispersions for scale radius 3.4000000000000004\n"
     ]
    },
    {
     "name": "stderr",
     "output_type": "stream",
     "text": [
      "100%|██████████| 100/100 [00:13<00:00,  7.63it/s]\n",
      " 34%|███▍      | 34/99 [07:41<13:59, 12.91s/it]"
     ]
    },
    {
     "name": "stdout",
     "output_type": "stream",
     "text": [
      "generating velocity dispersions for scale radius 3.5000000000000004\n"
     ]
    },
    {
     "name": "stderr",
     "output_type": "stream",
     "text": [
      "100%|██████████| 100/100 [00:12<00:00,  7.76it/s]\n",
      " 35%|███▌      | 35/99 [07:54<13:45, 12.90s/it]"
     ]
    },
    {
     "name": "stdout",
     "output_type": "stream",
     "text": [
      "generating velocity dispersions for scale radius 3.6\n"
     ]
    },
    {
     "name": "stderr",
     "output_type": "stream",
     "text": [
      "100%|██████████| 100/100 [00:12<00:00,  7.74it/s]\n",
      " 36%|███▋      | 36/99 [08:07<13:33, 12.91s/it]"
     ]
    },
    {
     "name": "stdout",
     "output_type": "stream",
     "text": [
      "generating velocity dispersions for scale radius 3.7\n"
     ]
    },
    {
     "name": "stderr",
     "output_type": "stream",
     "text": [
      "100%|██████████| 100/100 [00:12<00:00,  7.71it/s]\n",
      " 37%|███▋      | 37/99 [08:20<13:21, 12.93s/it]"
     ]
    },
    {
     "name": "stdout",
     "output_type": "stream",
     "text": [
      "generating velocity dispersions for scale radius 3.8000000000000003\n"
     ]
    },
    {
     "name": "stderr",
     "output_type": "stream",
     "text": [
      "100%|██████████| 100/100 [00:13<00:00,  7.64it/s]\n",
      " 38%|███▊      | 38/99 [08:33<13:11, 12.98s/it]"
     ]
    },
    {
     "name": "stdout",
     "output_type": "stream",
     "text": [
      "generating velocity dispersions for scale radius 3.9000000000000004\n"
     ]
    },
    {
     "name": "stderr",
     "output_type": "stream",
     "text": [
      "100%|██████████| 100/100 [00:12<00:00,  7.73it/s]\n",
      " 39%|███▉      | 39/99 [08:46<12:58, 12.97s/it]"
     ]
    },
    {
     "name": "stdout",
     "output_type": "stream",
     "text": [
      "generating velocity dispersions for scale radius 4.0\n"
     ]
    },
    {
     "name": "stderr",
     "output_type": "stream",
     "text": [
      "100%|██████████| 100/100 [00:13<00:00,  7.64it/s]\n",
      " 40%|████      | 40/99 [08:59<12:47, 13.01s/it]"
     ]
    },
    {
     "name": "stdout",
     "output_type": "stream",
     "text": [
      "generating velocity dispersions for scale radius 4.1\n"
     ]
    },
    {
     "name": "stderr",
     "output_type": "stream",
     "text": [
      "100%|██████████| 100/100 [00:13<00:00,  7.66it/s]\n",
      " 41%|████▏     | 41/99 [09:12<12:35, 13.02s/it]"
     ]
    },
    {
     "name": "stdout",
     "output_type": "stream",
     "text": [
      "generating velocity dispersions for scale radius 4.2\n"
     ]
    },
    {
     "name": "stderr",
     "output_type": "stream",
     "text": [
      "100%|██████████| 100/100 [00:12<00:00,  7.76it/s]\n",
      " 42%|████▏     | 42/99 [09:25<12:20, 12.98s/it]"
     ]
    },
    {
     "name": "stdout",
     "output_type": "stream",
     "text": [
      "generating velocity dispersions for scale radius 4.3\n"
     ]
    },
    {
     "name": "stderr",
     "output_type": "stream",
     "text": [
      "100%|██████████| 100/100 [00:12<00:00,  7.79it/s]\n",
      " 43%|████▎     | 43/99 [09:38<12:04, 12.94s/it]"
     ]
    },
    {
     "name": "stdout",
     "output_type": "stream",
     "text": [
      "generating velocity dispersions for scale radius 4.3999999999999995\n"
     ]
    },
    {
     "name": "stderr",
     "output_type": "stream",
     "text": [
      "100%|██████████| 100/100 [00:12<00:00,  7.81it/s]\n",
      " 44%|████▍     | 44/99 [09:51<11:49, 12.90s/it]"
     ]
    },
    {
     "name": "stdout",
     "output_type": "stream",
     "text": [
      "generating velocity dispersions for scale radius 4.5\n"
     ]
    },
    {
     "name": "stderr",
     "output_type": "stream",
     "text": [
      "100%|██████████| 100/100 [00:12<00:00,  7.78it/s]\n",
      " 45%|████▌     | 45/99 [10:04<11:36, 12.89s/it]"
     ]
    },
    {
     "name": "stdout",
     "output_type": "stream",
     "text": [
      "generating velocity dispersions for scale radius 4.6\n"
     ]
    },
    {
     "name": "stderr",
     "output_type": "stream",
     "text": [
      "100%|██████████| 100/100 [00:12<00:00,  7.82it/s]\n",
      " 46%|████▋     | 46/99 [10:16<11:21, 12.86s/it]"
     ]
    },
    {
     "name": "stdout",
     "output_type": "stream",
     "text": [
      "generating velocity dispersions for scale radius 4.7\n"
     ]
    },
    {
     "name": "stderr",
     "output_type": "stream",
     "text": [
      "100%|██████████| 100/100 [00:13<00:00,  7.68it/s]\n",
      " 47%|████▋     | 47/99 [10:30<11:11, 12.91s/it]"
     ]
    },
    {
     "name": "stdout",
     "output_type": "stream",
     "text": [
      "generating velocity dispersions for scale radius 4.8\n"
     ]
    },
    {
     "name": "stderr",
     "output_type": "stream",
     "text": [
      "100%|██████████| 100/100 [00:12<00:00,  7.80it/s]\n",
      " 48%|████▊     | 48/99 [10:42<10:57, 12.89s/it]"
     ]
    },
    {
     "name": "stdout",
     "output_type": "stream",
     "text": [
      "generating velocity dispersions for scale radius 4.9\n"
     ]
    },
    {
     "name": "stderr",
     "output_type": "stream",
     "text": [
      "100%|██████████| 100/100 [00:12<00:00,  7.74it/s]\n",
      " 49%|████▉     | 49/99 [10:55<10:44, 12.90s/it]"
     ]
    },
    {
     "name": "stdout",
     "output_type": "stream",
     "text": [
      "generating velocity dispersions for scale radius 5.0\n"
     ]
    },
    {
     "name": "stderr",
     "output_type": "stream",
     "text": [
      "100%|██████████| 100/100 [00:12<00:00,  7.80it/s]\n",
      " 51%|█████     | 50/99 [11:08<10:30, 12.88s/it]"
     ]
    },
    {
     "name": "stdout",
     "output_type": "stream",
     "text": [
      "generating velocity dispersions for scale radius 5.1\n"
     ]
    },
    {
     "name": "stderr",
     "output_type": "stream",
     "text": [
      "100%|██████████| 100/100 [00:12<00:00,  7.78it/s]\n",
      " 52%|█████▏    | 51/99 [11:21<10:17, 12.87s/it]"
     ]
    },
    {
     "name": "stdout",
     "output_type": "stream",
     "text": [
      "generating velocity dispersions for scale radius 5.2\n"
     ]
    },
    {
     "name": "stderr",
     "output_type": "stream",
     "text": [
      "100%|██████████| 100/100 [00:12<00:00,  7.78it/s]\n",
      " 53%|█████▎    | 52/99 [11:34<10:04, 12.87s/it]"
     ]
    },
    {
     "name": "stdout",
     "output_type": "stream",
     "text": [
      "generating velocity dispersions for scale radius 5.3\n"
     ]
    },
    {
     "name": "stderr",
     "output_type": "stream",
     "text": [
      "100%|██████████| 100/100 [00:12<00:00,  7.76it/s]\n",
      " 54%|█████▎    | 53/99 [11:47<09:52, 12.87s/it]"
     ]
    },
    {
     "name": "stdout",
     "output_type": "stream",
     "text": [
      "generating velocity dispersions for scale radius 5.4\n"
     ]
    },
    {
     "name": "stderr",
     "output_type": "stream",
     "text": [
      "100%|██████████| 100/100 [00:12<00:00,  7.80it/s]\n",
      " 55%|█████▍    | 54/99 [12:00<09:38, 12.86s/it]"
     ]
    },
    {
     "name": "stdout",
     "output_type": "stream",
     "text": [
      "generating velocity dispersions for scale radius 5.5\n"
     ]
    },
    {
     "name": "stderr",
     "output_type": "stream",
     "text": [
      "100%|██████████| 100/100 [00:12<00:00,  7.79it/s]\n",
      " 56%|█████▌    | 55/99 [12:12<09:25, 12.85s/it]"
     ]
    },
    {
     "name": "stdout",
     "output_type": "stream",
     "text": [
      "generating velocity dispersions for scale radius 5.6\n"
     ]
    },
    {
     "name": "stderr",
     "output_type": "stream",
     "text": [
      "100%|██████████| 100/100 [00:12<00:00,  7.80it/s]\n",
      " 57%|█████▋    | 56/99 [12:25<09:12, 12.84s/it]"
     ]
    },
    {
     "name": "stdout",
     "output_type": "stream",
     "text": [
      "generating velocity dispersions for scale radius 5.7\n"
     ]
    },
    {
     "name": "stderr",
     "output_type": "stream",
     "text": [
      "100%|██████████| 100/100 [00:12<00:00,  7.81it/s]\n",
      " 58%|█████▊    | 57/99 [12:38<08:58, 12.83s/it]"
     ]
    },
    {
     "name": "stdout",
     "output_type": "stream",
     "text": [
      "generating velocity dispersions for scale radius 5.8\n"
     ]
    },
    {
     "name": "stderr",
     "output_type": "stream",
     "text": [
      "100%|██████████| 100/100 [00:12<00:00,  7.78it/s]\n",
      " 59%|█████▊    | 58/99 [12:51<08:46, 12.84s/it]"
     ]
    },
    {
     "name": "stdout",
     "output_type": "stream",
     "text": [
      "generating velocity dispersions for scale radius 5.9\n"
     ]
    },
    {
     "name": "stderr",
     "output_type": "stream",
     "text": [
      "100%|██████████| 100/100 [00:12<00:00,  7.79it/s]\n",
      " 60%|█████▉    | 59/99 [13:04<08:33, 12.84s/it]"
     ]
    },
    {
     "name": "stdout",
     "output_type": "stream",
     "text": [
      "generating velocity dispersions for scale radius 6.0\n"
     ]
    },
    {
     "name": "stderr",
     "output_type": "stream",
     "text": [
      "100%|██████████| 100/100 [00:12<00:00,  7.78it/s]\n",
      " 61%|██████    | 60/99 [13:17<08:20, 12.84s/it]"
     ]
    },
    {
     "name": "stdout",
     "output_type": "stream",
     "text": [
      "generating velocity dispersions for scale radius 6.1\n"
     ]
    },
    {
     "name": "stderr",
     "output_type": "stream",
     "text": [
      "100%|██████████| 100/100 [00:12<00:00,  7.79it/s]\n",
      " 62%|██████▏   | 61/99 [13:29<08:08, 12.84s/it]"
     ]
    },
    {
     "name": "stdout",
     "output_type": "stream",
     "text": [
      "generating velocity dispersions for scale radius 6.2\n"
     ]
    },
    {
     "name": "stderr",
     "output_type": "stream",
     "text": [
      "100%|██████████| 100/100 [00:12<00:00,  7.76it/s]\n",
      " 63%|██████▎   | 62/99 [13:42<07:55, 12.86s/it]"
     ]
    },
    {
     "name": "stdout",
     "output_type": "stream",
     "text": [
      "generating velocity dispersions for scale radius 6.3\n"
     ]
    },
    {
     "name": "stderr",
     "output_type": "stream",
     "text": [
      "100%|██████████| 100/100 [00:12<00:00,  7.79it/s]\n",
      " 64%|██████▎   | 63/99 [13:55<07:42, 12.85s/it]"
     ]
    },
    {
     "name": "stdout",
     "output_type": "stream",
     "text": [
      "generating velocity dispersions for scale radius 6.4\n"
     ]
    },
    {
     "name": "stderr",
     "output_type": "stream",
     "text": [
      "100%|██████████| 100/100 [00:12<00:00,  7.82it/s]\n",
      " 65%|██████▍   | 64/99 [14:08<07:29, 12.84s/it]"
     ]
    },
    {
     "name": "stdout",
     "output_type": "stream",
     "text": [
      "generating velocity dispersions for scale radius 6.5\n"
     ]
    },
    {
     "name": "stderr",
     "output_type": "stream",
     "text": [
      "100%|██████████| 100/100 [00:12<00:00,  7.81it/s]\n",
      " 66%|██████▌   | 65/99 [14:21<07:16, 12.83s/it]"
     ]
    },
    {
     "name": "stdout",
     "output_type": "stream",
     "text": [
      "generating velocity dispersions for scale radius 6.6\n"
     ]
    },
    {
     "name": "stderr",
     "output_type": "stream",
     "text": [
      "100%|██████████| 100/100 [00:12<00:00,  7.76it/s]\n",
      " 67%|██████▋   | 66/99 [14:34<07:03, 12.85s/it]"
     ]
    },
    {
     "name": "stdout",
     "output_type": "stream",
     "text": [
      "generating velocity dispersions for scale radius 6.7\n"
     ]
    },
    {
     "name": "stderr",
     "output_type": "stream",
     "text": [
      "100%|██████████| 100/100 [00:12<00:00,  7.82it/s]\n",
      " 68%|██████▊   | 67/99 [14:46<06:50, 12.83s/it]"
     ]
    },
    {
     "name": "stdout",
     "output_type": "stream",
     "text": [
      "generating velocity dispersions for scale radius 6.8\n"
     ]
    },
    {
     "name": "stderr",
     "output_type": "stream",
     "text": [
      "100%|██████████| 100/100 [00:12<00:00,  7.79it/s]\n",
      " 69%|██████▊   | 68/99 [14:59<06:37, 12.83s/it]"
     ]
    },
    {
     "name": "stdout",
     "output_type": "stream",
     "text": [
      "generating velocity dispersions for scale radius 6.9\n"
     ]
    },
    {
     "name": "stderr",
     "output_type": "stream",
     "text": [
      "100%|██████████| 100/100 [00:12<00:00,  7.81it/s]\n",
      " 70%|██████▉   | 69/99 [15:12<06:24, 12.83s/it]"
     ]
    },
    {
     "name": "stdout",
     "output_type": "stream",
     "text": [
      "generating velocity dispersions for scale radius 7.0\n"
     ]
    },
    {
     "name": "stderr",
     "output_type": "stream",
     "text": [
      "100%|██████████| 100/100 [00:12<00:00,  7.79it/s]\n",
      " 71%|███████   | 70/99 [15:25<06:12, 12.83s/it]"
     ]
    },
    {
     "name": "stdout",
     "output_type": "stream",
     "text": [
      "generating velocity dispersions for scale radius 7.1\n"
     ]
    },
    {
     "name": "stderr",
     "output_type": "stream",
     "text": [
      "100%|██████████| 100/100 [00:12<00:00,  7.79it/s]\n",
      " 72%|███████▏  | 71/99 [15:38<05:59, 12.83s/it]"
     ]
    },
    {
     "name": "stdout",
     "output_type": "stream",
     "text": [
      "generating velocity dispersions for scale radius 7.2\n"
     ]
    },
    {
     "name": "stderr",
     "output_type": "stream",
     "text": [
      "100%|██████████| 100/100 [00:12<00:00,  7.77it/s]\n",
      " 73%|███████▎  | 72/99 [15:51<05:46, 12.84s/it]"
     ]
    },
    {
     "name": "stdout",
     "output_type": "stream",
     "text": [
      "generating velocity dispersions for scale radius 7.3\n"
     ]
    },
    {
     "name": "stderr",
     "output_type": "stream",
     "text": [
      "100%|██████████| 100/100 [00:12<00:00,  7.76it/s]\n",
      " 74%|███████▎  | 73/99 [16:03<05:34, 12.86s/it]"
     ]
    },
    {
     "name": "stdout",
     "output_type": "stream",
     "text": [
      "generating velocity dispersions for scale radius 7.4\n"
     ]
    },
    {
     "name": "stderr",
     "output_type": "stream",
     "text": [
      "100%|██████████| 100/100 [00:12<00:00,  7.78it/s]\n",
      " 75%|███████▍  | 74/99 [16:16<05:21, 12.86s/it]"
     ]
    },
    {
     "name": "stdout",
     "output_type": "stream",
     "text": [
      "generating velocity dispersions for scale radius 7.5\n"
     ]
    },
    {
     "name": "stderr",
     "output_type": "stream",
     "text": [
      "100%|██████████| 100/100 [00:12<00:00,  7.75it/s]\n",
      " 76%|███████▌  | 75/99 [16:29<05:08, 12.87s/it]"
     ]
    },
    {
     "name": "stdout",
     "output_type": "stream",
     "text": [
      "generating velocity dispersions for scale radius 7.6\n"
     ]
    },
    {
     "name": "stderr",
     "output_type": "stream",
     "text": [
      "100%|██████████| 100/100 [00:12<00:00,  7.79it/s]\n",
      " 77%|███████▋  | 76/99 [16:42<04:55, 12.87s/it]"
     ]
    },
    {
     "name": "stdout",
     "output_type": "stream",
     "text": [
      "generating velocity dispersions for scale radius 7.7\n"
     ]
    },
    {
     "name": "stderr",
     "output_type": "stream",
     "text": [
      "100%|██████████| 100/100 [00:12<00:00,  7.77it/s]\n",
      " 78%|███████▊  | 77/99 [16:55<04:43, 12.87s/it]"
     ]
    },
    {
     "name": "stdout",
     "output_type": "stream",
     "text": [
      "generating velocity dispersions for scale radius 7.8\n"
     ]
    },
    {
     "name": "stderr",
     "output_type": "stream",
     "text": [
      "100%|██████████| 100/100 [00:12<00:00,  7.76it/s]\n",
      " 79%|███████▉  | 78/99 [17:08<04:30, 12.88s/it]"
     ]
    },
    {
     "name": "stdout",
     "output_type": "stream",
     "text": [
      "generating velocity dispersions for scale radius 7.9\n"
     ]
    },
    {
     "name": "stderr",
     "output_type": "stream",
     "text": [
      "100%|██████████| 100/100 [00:12<00:00,  7.77it/s]\n",
      " 80%|███████▉  | 79/99 [17:21<04:17, 12.88s/it]"
     ]
    },
    {
     "name": "stdout",
     "output_type": "stream",
     "text": [
      "generating velocity dispersions for scale radius 8.0\n"
     ]
    },
    {
     "name": "stderr",
     "output_type": "stream",
     "text": [
      "100%|██████████| 100/100 [00:12<00:00,  7.80it/s]\n",
      " 81%|████████  | 80/99 [17:34<04:04, 12.86s/it]"
     ]
    },
    {
     "name": "stdout",
     "output_type": "stream",
     "text": [
      "generating velocity dispersions for scale radius 8.1\n"
     ]
    },
    {
     "name": "stderr",
     "output_type": "stream",
     "text": [
      "100%|██████████| 100/100 [00:13<00:00,  7.69it/s]\n",
      " 82%|████████▏ | 81/99 [17:47<03:52, 12.91s/it]"
     ]
    },
    {
     "name": "stdout",
     "output_type": "stream",
     "text": [
      "generating velocity dispersions for scale radius 8.2\n"
     ]
    },
    {
     "name": "stderr",
     "output_type": "stream",
     "text": [
      "100%|██████████| 100/100 [00:12<00:00,  7.69it/s]\n",
      " 83%|████████▎ | 82/99 [18:00<03:39, 12.94s/it]"
     ]
    },
    {
     "name": "stdout",
     "output_type": "stream",
     "text": [
      "generating velocity dispersions for scale radius 8.3\n"
     ]
    },
    {
     "name": "stderr",
     "output_type": "stream",
     "text": [
      "100%|██████████| 100/100 [00:12<00:00,  7.73it/s]\n",
      " 84%|████████▍ | 83/99 [18:13<03:27, 12.94s/it]"
     ]
    },
    {
     "name": "stdout",
     "output_type": "stream",
     "text": [
      "generating velocity dispersions for scale radius 8.4\n"
     ]
    },
    {
     "name": "stderr",
     "output_type": "stream",
     "text": [
      "100%|██████████| 100/100 [00:13<00:00,  7.67it/s]\n",
      " 85%|████████▍ | 84/99 [18:26<03:14, 12.97s/it]"
     ]
    },
    {
     "name": "stdout",
     "output_type": "stream",
     "text": [
      "generating velocity dispersions for scale radius 8.5\n"
     ]
    },
    {
     "name": "stderr",
     "output_type": "stream",
     "text": [
      "100%|██████████| 100/100 [00:13<00:00,  7.68it/s]\n",
      " 86%|████████▌ | 85/99 [18:39<03:01, 12.98s/it]"
     ]
    },
    {
     "name": "stdout",
     "output_type": "stream",
     "text": [
      "generating velocity dispersions for scale radius 8.6\n"
     ]
    },
    {
     "name": "stderr",
     "output_type": "stream",
     "text": [
      "100%|██████████| 100/100 [00:12<00:00,  7.71it/s]\n",
      " 87%|████████▋ | 86/99 [18:52<02:48, 12.98s/it]"
     ]
    },
    {
     "name": "stdout",
     "output_type": "stream",
     "text": [
      "generating velocity dispersions for scale radius 8.7\n"
     ]
    },
    {
     "name": "stderr",
     "output_type": "stream",
     "text": [
      "100%|██████████| 100/100 [00:13<00:00,  7.68it/s]\n",
      " 88%|████████▊ | 87/99 [19:05<02:35, 12.99s/it]"
     ]
    },
    {
     "name": "stdout",
     "output_type": "stream",
     "text": [
      "generating velocity dispersions for scale radius 8.8\n"
     ]
    },
    {
     "name": "stderr",
     "output_type": "stream",
     "text": [
      "100%|██████████| 100/100 [00:12<00:00,  7.71it/s]\n",
      " 89%|████████▉ | 88/99 [19:18<02:22, 12.99s/it]"
     ]
    },
    {
     "name": "stdout",
     "output_type": "stream",
     "text": [
      "generating velocity dispersions for scale radius 8.9\n"
     ]
    },
    {
     "name": "stderr",
     "output_type": "stream",
     "text": [
      "100%|██████████| 100/100 [00:12<00:00,  7.74it/s]\n",
      " 90%|████████▉ | 89/99 [19:30<02:09, 12.97s/it]"
     ]
    },
    {
     "name": "stdout",
     "output_type": "stream",
     "text": [
      "generating velocity dispersions for scale radius 9.0\n"
     ]
    },
    {
     "name": "stderr",
     "output_type": "stream",
     "text": [
      "100%|██████████| 100/100 [00:13<00:00,  7.65it/s]\n",
      " 91%|█████████ | 90/99 [19:44<01:56, 13.00s/it]"
     ]
    },
    {
     "name": "stdout",
     "output_type": "stream",
     "text": [
      "generating velocity dispersions for scale radius 9.1\n"
     ]
    },
    {
     "name": "stderr",
     "output_type": "stream",
     "text": [
      "100%|██████████| 100/100 [00:13<00:00,  7.66it/s]\n",
      " 92%|█████████▏| 91/99 [19:57<01:44, 13.02s/it]"
     ]
    },
    {
     "name": "stdout",
     "output_type": "stream",
     "text": [
      "generating velocity dispersions for scale radius 9.2\n"
     ]
    },
    {
     "name": "stderr",
     "output_type": "stream",
     "text": [
      "100%|██████████| 100/100 [00:12<00:00,  7.72it/s]\n",
      " 93%|█████████▎| 92/99 [20:10<01:30, 13.00s/it]"
     ]
    },
    {
     "name": "stdout",
     "output_type": "stream",
     "text": [
      "generating velocity dispersions for scale radius 9.3\n"
     ]
    },
    {
     "name": "stderr",
     "output_type": "stream",
     "text": [
      "100%|██████████| 100/100 [00:12<00:00,  7.70it/s]\n",
      " 94%|█████████▍| 93/99 [20:23<01:17, 13.00s/it]"
     ]
    },
    {
     "name": "stdout",
     "output_type": "stream",
     "text": [
      "generating velocity dispersions for scale radius 9.4\n"
     ]
    },
    {
     "name": "stderr",
     "output_type": "stream",
     "text": [
      "100%|██████████| 100/100 [00:13<00:00,  7.66it/s]\n",
      " 95%|█████████▍| 94/99 [20:36<01:05, 13.01s/it]"
     ]
    },
    {
     "name": "stdout",
     "output_type": "stream",
     "text": [
      "generating velocity dispersions for scale radius 9.5\n"
     ]
    },
    {
     "name": "stderr",
     "output_type": "stream",
     "text": [
      "100%|██████████| 100/100 [00:12<00:00,  7.70it/s]\n",
      " 96%|█████████▌| 95/99 [20:49<00:52, 13.01s/it]"
     ]
    },
    {
     "name": "stdout",
     "output_type": "stream",
     "text": [
      "generating velocity dispersions for scale radius 9.6\n"
     ]
    },
    {
     "name": "stderr",
     "output_type": "stream",
     "text": [
      "100%|██████████| 100/100 [00:12<00:00,  7.76it/s]\n",
      " 97%|█████████▋| 96/99 [21:02<00:38, 12.97s/it]"
     ]
    },
    {
     "name": "stdout",
     "output_type": "stream",
     "text": [
      "generating velocity dispersions for scale radius 9.700000000000001\n"
     ]
    },
    {
     "name": "stderr",
     "output_type": "stream",
     "text": [
      "100%|██████████| 100/100 [00:12<00:00,  7.80it/s]\n",
      " 98%|█████████▊| 97/99 [21:14<00:25, 12.93s/it]"
     ]
    },
    {
     "name": "stdout",
     "output_type": "stream",
     "text": [
      "generating velocity dispersions for scale radius 9.8\n"
     ]
    },
    {
     "name": "stderr",
     "output_type": "stream",
     "text": [
      "100%|██████████| 100/100 [00:12<00:00,  7.76it/s]\n",
      " 99%|█████████▉| 98/99 [21:27<00:12, 12.92s/it]"
     ]
    },
    {
     "name": "stdout",
     "output_type": "stream",
     "text": [
      "generating velocity dispersions for scale radius 9.9\n"
     ]
    },
    {
     "name": "stderr",
     "output_type": "stream",
     "text": [
      "100%|██████████| 100/100 [00:12<00:00,  7.77it/s]\n",
      "100%|██████████| 99/99 [21:40<00:00, 13.14s/it]\n"
     ]
    }
   ],
   "source": [
    "vdr = []\n",
    "vdtheta = []\n",
    "vdphi = []\n",
    "for i in tqdm(range(0,len(b))):\n",
    "    print('generating velocity dispersions for scale radius ' + str(b[i]))\n",
    "    plummer_sphere = toy_systems.PlummerSphere(G,M,b[i])\n",
    "    def sample_df(n_samples, max_dist=None):\n",
    "        \"\"\"\n",
    "        Returns phase-space locations sampled from the Plummer sphere\n",
    "        distribution function. The shape of the output is\n",
    "        (n_samples, 6).\n",
    "        \"\"\"\n",
    "        #Generates coordinates in phase-space from that lie in a spherical spatial region.\n",
    "        x,v = plummer_sphere.sample_df(n_samples)\n",
    "        if max_dist is not None:\n",
    "            r2 = np.sum(x**2, axis=1)\n",
    "            idx = (r2 < max_dist**2)\n",
    "            x = x[idx]\n",
    "            v = v[idx]\n",
    "        return x , v\n",
    "\n",
    "    vdr_avg = []\n",
    "    vdtheta_avg = []\n",
    "    vdphi_avg = []\n",
    "\n",
    "    for m in tqdm(range(0,n_averaged)):\n",
    "\n",
    "        q, p = sample_df(n_samples) #Generate Mock Data\n",
    "        r, vr, vtheta, vphi = sfurical(q.T[0],q.T[1],q.T[2],p.T[0],p.T[1],p.T[2]) #Convert to spherical coordinates\n",
    "        N , bin_edges= histogram(r,bins='blocks') #bin data\n",
    "        r_center = (bin_edges[:-1] + bin_edges[1:])/2 #define bin centers\n",
    "        \n",
    "        #Calculate binning errors\n",
    "        vmean ,_,__  = stats.binned_statistic(r,vr, statistic = 'mean', bins = bin_edges)\n",
    "        error = np.multiply(1/np.sqrt(N),vmean)\n",
    "\n",
    "        #Calculate velocity dispersions\n",
    "        vdr0     ,_,__ = stats.binned_statistic(r,vr, statistic = dispersion, bins = bin_edges)\n",
    "        vdtheta0     ,_,__ = stats.binned_statistic(r,vtheta, statistic = dispersion, bins = bin_edges)\n",
    "        vdphi0     ,_,__ = stats.binned_statistic(r,vphi, statistic = dispersion, bins = bin_edges)   \n",
    "        vd_ideal0 = vdlytic(G,M,b[i],r_center)\n",
    "\n",
    "        #Calculate normalized variance from ideal\n",
    "        vdr_avg += [variance(vdr0,vd_ideal0)]\n",
    "        vdtheta_avg += [variance(vdtheta0,vd_ideal0)]\n",
    "        vdphi_avg += [variance(vdphi0,vd_ideal0)]\n",
    "\n",
    "    vdr += [sum(vdr_avg)/n_averaged]\n",
    "    vdtheta += [sum(vdtheta_avg)/n_averaged]\n",
    "    vdphi += [sum(vdphi_avg)/n_averaged]\n",
    "\n"
   ]
  },
  {
   "attachments": {},
   "cell_type": "markdown",
   "metadata": {},
   "source": [
    "### Plot Results"
   ]
  },
  {
   "cell_type": "code",
   "execution_count": 77,
   "metadata": {},
   "outputs": [
    {
     "data": {
      "text/plain": [
       "(0.0, 0.25)"
      ]
     },
     "execution_count": 77,
     "metadata": {},
     "output_type": "execute_result"
    },
    {
     "data": {
      "image/png": "[encoded data removed]",
      "text/plain": [
       "<Figure size 640x480 with 3 Axes>"
      ]
     },
     "metadata": {},
     "output_type": "display_data"
    }
   ],
   "source": [
    "    figure, axis = plt.subplots(3, 1)\n",
    "    plt.subplots_adjust(hspace = .25)\n",
    "    ymax = .25\n",
    "\n",
    "\n",
    "    #First plot - Radial Dispersions\n",
    "    axis[0].plot(b,vdr, label = 't=0', color = 'navy')\n",
    "    axis[0].set_ylabel('$\\sigma_r$')\n",
    "    axis[0].set_title('Normalized Variance')\n",
    "    axis[0].legend(fontsize = 'xx-small')\n",
    "    axis[0].set_ylim(0,ymax)\n",
    "\n",
    "    #Second Plot - Theta Dispersions\n",
    "    axis[1].plot(b,vdtheta, label = 't=0', color = 'navy')\n",
    "    axis[1].set_ylabel('$\\sigma_{theta}$')\n",
    "    axis[1].legend(fontsize= 'xx-small')\n",
    "    axis[1].set_ylim(0,ymax)\n",
    "\n",
    "    #Third Plot - Phi Dispersions\n",
    "    axis[2].plot(b,vdphi, label = 't=0', color = 'navy')\n",
    "    axis[2].set_xlabel('scale radius (b)')\n",
    "    axis[2].set_ylabel('$\\sigma_{phi}$')\n",
    "    axis[2].legend(fontsize= 'xx-small')\n",
    "    axis[2].set_ylim(0,ymax)"
   ]
  },
  {
   "cell_type": "code",
   "execution_count": null,
   "metadata": {},
   "outputs": [],
   "source": []
  }
 ],
 "metadata": {
  "kernelspec": {
   "display_name": "Python 3",
   "language": "python",
   "name": "python3"
  },
  "language_info": {
   "codemirror_mode": {
    "name": "ipython",
    "version": 3
   },
   "file_extension": ".py",
   "mimetype": "text/x-python",
   "name": "python",
   "nbconvert_exporter": "python",
   "pygments_lexer": "ipython3",
   "version": "3.9.6"
  },
  "orig_nbformat": 4
 },
 "nbformat": 4,
 "nbformat_minor": 2
}
