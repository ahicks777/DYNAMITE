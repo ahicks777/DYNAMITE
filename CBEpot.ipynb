{
 "cells": [
  {
   "cell_type": "code",
   "execution_count": 2,
   "metadata": {},
   "outputs": [
    {
     "name": "stderr",
     "output_type": "stream",
     "text": [
      "WARNING: AstropyDeprecationWarning: http://bugs.python.org/issue12166 is resolved, use ``sorted(super().__dir__() + ...)`` instead. [gala.dynamics.core]\n"
     ]
    },
    {
     "name": "stdout",
     "output_type": "stream",
     "text": [
      "Pytorch version 2.0.1\n"
     ]
    }
   ],
   "source": [
    "#Generic import Cell\n",
    "import torch\n",
    "from torch.autograd import Variable\n",
    "import numpy as np\n",
    "import sys\n",
    "import scipy\n",
    "import scipy.stats\n",
    "import matplotlib\n",
    "import matplotlib.pyplot as plt\n",
    "import matplotlib.colors as mcolors\n",
    "from matplotlib.ticker import AutoMinorLocator, MultipleLocator\n",
    "from matplotlib.gridspec import GridSpec\n",
    "from time import time\n",
    "import re\n",
    "import json\n",
    "import astropy\n",
    "from astropy.stats import histogram\n",
    "from scipy import stats\n",
    "import astropy.units as u\n",
    "import astropy.constants as constant\n",
    "import gala.potential as gp\n",
    "import gala.dynamics as gd\n",
    "from gala.units import galactic\n",
    "from gala.units import dimensionless\n",
    "import pandas as pd\n",
    "import tqdm as tqdm\n",
    "from tqdm import tqdm\n",
    "import importlib\n",
    "print(f'Pytorch version {torch.__version__}')"
   ]
  },
  {
   "cell_type": "code",
   "execution_count": 3,
   "metadata": {},
   "outputs": [
    {
     "name": "stdout",
     "output_type": "stream",
     "text": [
      "Pytorch version 2.0.1\n",
      "Pytorch version 2.0.1\n"
     ]
    }
   ],
   "source": [
    "sys.path.append('../scripts/')\n",
    "import potential_torch\n",
    "import flow_torch\n",
    "import toy_systems"
   ]
  },
  {
   "cell_type": "code",
   "execution_count": 4,
   "metadata": {},
   "outputs": [],
   "source": [
    "potential_type = 'plummer' #used to select potential {'plummer','?'}\n",
    "unit_type = 'dimensionless' #used to select units {'galactic','dimensionless'}\n",
    "orbited = False\n",
    "\n",
    "G = float(constant.G.to(u.kpc*u.km**2/u.solMass/u.s**2)/(u.kpc*u.km**2/u.solMass/u.s**2))\n",
    "M = 1\n",
    "b = 1\n",
    "m = 1 #Mass of a typical particle\n",
    "\n",
    "np.save('G',G)\n",
    "np.save('M',M)\n",
    "np.save('b',b)\n",
    "\n",
    "#Lambda functions for various potentials {KE ,PE, qpdf, vdlytic, vesc}\n",
    "if potential_type == 'plummer':\n",
    "    PE = lambda G, M, b, r : -(G*M) / (b**2 + r**2)**(1/2) #Potential Energy\n",
    "    KE =  lambda m, v : (m/2)*(v**2) #Kinetic Energy\n",
    "    qpdf = lambda q: ((7*np.pi)/512)*np.square(q)*np.power(np.subtract(1,np.square(q)),7/2) #Normalized velocity probability distribution function\n",
    "    vdlytic = lambda G, M, b, r : np.sqrt(G*M/(6*np.sqrt(b**2+r**2))) #Analytic velocity dispersion\n",
    "    vesc = lambda G, M, b, r: np.sqrt(2*G*M/np.sqrt(b**2+np.square(r))) #Escape velocity\n",
    "    df_norm = lambda G, M, b: (24 * b**2 * np.sqrt(2.) ) / (7. * G**5 * M**4 * np.pi**3) #Normalization for distibution function\n",
    "    rholytic = lambda M, b, r: ((3 * M) / (4 * np.pi * b**3)*(1+(r/b)**2)**(-5/2))\n",
    "    Mlytic = lambda M, b, r: (M * r**3) / (r**2 + b**2)**(3/2)\n",
    "\n",
    "if potential_type == '?':\n",
    "    print('Update these definitions')"
   ]
  },
  {
   "cell_type": "code",
   "execution_count": null,
   "metadata": {},
   "outputs": [],
   "source": []
  }
 ],
 "metadata": {
  "kernelspec": {
   "display_name": "Python 3",
   "language": "python",
   "name": "python3"
  },
  "language_info": {
   "codemirror_mode": {
    "name": "ipython",
    "version": 3
   },
   "file_extension": ".py",
   "mimetype": "text/x-python",
   "name": "python",
   "nbconvert_exporter": "python",
   "pygments_lexer": "ipython3",
   "version": "3.9.6"
  },
  "orig_nbformat": 4
 },
 "nbformat": 4,
 "nbformat_minor": 2
}
